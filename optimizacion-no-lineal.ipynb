{
 "cells": [
  {
   "cell_type": "code",
   "execution_count": null,
   "metadata": {
    "id": "Bba6wdXi6UKf"
   },
   "outputs": [],
   "source": [
    "import numpy as np\n",
    "import matplotlib.pyplot as plt\n",
    "import plotly\n",
    "import plotly.express as px\n",
    "import plotly.graph_objs as go\n",
    "from plotly.offline import init_notebook_mode, iplot"
   ]
  },
  {
   "cell_type": "markdown",
   "metadata": {
    "id": "DWvBQZCD6eCE"
   },
   "source": [
    "# Optimización No Lineal\n",
    "\n",
    "##  Método del gradiente"
   ]
  },
  {
   "cell_type": "code",
   "execution_count": null,
   "metadata": {
    "id": "80nvN0dv6ssX"
   },
   "outputs": [],
   "source": [
    "def metodo_gradiente(A, b, x0, eps, k_max, lambdak, tita, roto): \n",
    "\n",
    "    iter = 0\n",
    "    x = x0 \n",
    "    d = -A@x - b\n",
    "    rotacion = np.array([[np.cos(tita), -np.sin(tita)], [np.sin(tita), np.cos(tita)]])\n",
    "\n",
    "    while(np.linalg.norm(d)>eps and iter<k_max):\n",
    "        \n",
    "        if(lambdak == 2):\n",
    "          lambdak = np.random.rand()\n",
    "\n",
    "        t = (d.T@d)/(d.T@(A@d)) * lambdak\n",
    "        x = x+t*d\n",
    "        esdecenso = (np.dot(-A@x - b, d) <= 0) \n",
    "        if roto and esdecenso:\n",
    "          d = rotacion@((-A@x - b))\n",
    "        else:\n",
    "          d = (-A@x - b)\n",
    "        \n",
    "        iter = iter + 1\n",
    "\n",
    "        if(iter==k_max):\n",
    "          print(\"ALCANZO MAX ITERACION!\")\n",
    "    return x, iter"
   ]
  },
  {
   "cell_type": "code",
   "execution_count": null,
   "metadata": {
    "id": "Louc8nOX-FIi"
   },
   "outputs": [],
   "source": [
    "A1 = np.diag(np.array([22.,22.,22.,22.,22.,22.,22.,22.,22.,22.]))\n",
    "A2 = np.diag(np.array([28.,29.,30.,30.,30.,30.,30.,31.,32.,30.]))\n",
    "A3 = np.diag(np.array([25.,26.,27.,28.,29.,30.,31.,32.,33.,34.]))\n",
    "A4 = np.diag(np.array([1.,2.,30.,30.,30.,30.,30.,60.,61.,62.]))\n",
    "A5 = np.diag(np.array([22.01,22.02,22.03,22.04,22.05,22.06,22.07,22.08,22.09,22.10]))\n",
    "A6 = np.diag(np.array([.01,10.,20.,30.,40.,50.,60.,70.,80.,910.]))\n",
    "A7 = np.diag(np.array([0.01,0.05,0.05,0.13,0.21,0.35,0.35,0.42,0.53,1096.42]))\n",
    "\n",
    "\n",
    "matricesA = [A1, A2, A3, A4, A5, A6, A7] "
   ]
  },
  {
   "cell_type": "code",
   "execution_count": null,
   "metadata": {
    "colab": {
     "base_uri": "https://localhost:8080/"
    },
    "id": "QmDNh-aHCJuk",
    "outputId": "672fb491-02be-43f7-d189-207164414676"
   },
   "outputs": [
    {
     "name": "stdout",
     "output_type": "stream",
     "text": [
      "ALCANZO MAX ITERACION!\n",
      "ALCANZO MAX ITERACION!\n",
      "ALCANZO MAX ITERACION!\n",
      "ALCANZO MAX ITERACION!\n",
      "ALCANZO MAX ITERACION!\n"
     ]
    }
   ],
   "source": [
    "b_pruebaA = np.zeros(10)\n",
    "x_inicialA = np.random.rand(10)*3\n",
    "eps = 1e-8\n",
    "\n",
    "kmax = 10000\n",
    "\n",
    "lambdas1 = np.zeros((len(matricesA), 5))\n",
    "# Probamos con lambdak = 0.75\n",
    "for i in range(1, len(matricesA) + 1):\n",
    "  lambdas1[i-1, 0] = metodo_gradiente(matricesA[i-1],b_pruebaA, x_inicialA, eps, kmax, 0.75, 0, False)[1]\n",
    "\n",
    "# Probamos con lambdak = 0.5\n",
    "for i in range(1, len(matricesA) + 1):\n",
    "  lambdas1[i-1, 1] = metodo_gradiente(matricesA[i-1],b_pruebaA, x_inicialA, eps, kmax, 0.5, 0, False)[1]\n",
    "\n",
    "# Probamos con lambdak = 0.25\n",
    "for i in range(1, len(matricesA) + 1):\n",
    "  lambdas1[i-1, 2] = metodo_gradiente(matricesA[i-1],b_pruebaA, x_inicialA, eps, kmax, 0.25, 0, False)[1]\n",
    "\n",
    "# Probamos con lambdak aleatorio entre (0,1]\n",
    "for i in range(1, len(matricesA) + 1):\n",
    "  lambdas1[i-1, 3] = metodo_gradiente(matricesA[i-1],b_pruebaA, x_inicialA, eps, kmax, 2, 0, False)[1]\n",
    "\n",
    "# Probamos con lambdak = 1\n",
    "for i in range(1, len(matricesA) + 1):\n",
    "  lambdas1[i-1, 4] = metodo_gradiente(matricesA[i-1],b_pruebaA, x_inicialA, eps, kmax, 1, 0, False)[1]\n"
   ]
  },
  {
   "cell_type": "code",
   "execution_count": null,
   "metadata": {
    "colab": {
     "base_uri": "https://localhost:8080/",
     "height": 295
    },
    "id": "p92_EUKGQ6NP",
    "outputId": "d5618ddc-b894-4446-e916-008dcd71f2b9"
   },
   "outputs": [
    {
     "data": {
      "image/png": "[encoded data removed]",
      "text/plain": [
       "<Figure size 432x288 with 1 Axes>"
      ]
     },
     "metadata": {
      "needs_background": "light"
     },
     "output_type": "display_data"
    }
   ],
   "source": [
    "%matplotlib inline\n",
    "\n",
    "plt.plot(np.array([1., 2., 3., 4., 5., 6., 7.]), lambdas1[:, 0], 'go--')\n",
    "plt.plot(np.array([1., 2., 3., 4., 5., 6., 7.]), lambdas1[:, 1], 'bo--')\n",
    "plt.plot(np.array([1., 2., 3., 4., 5., 6., 7.]), lambdas1[:, 2], 'ro--')\n",
    "plt.plot(np.array([1., 2., 3., 4., 5., 6., 7.]), lambdas1[:, 3], 'ko--')\n",
    "plt.plot(np.array([1., 2., 3., 4., 5., 6., 7.]), lambdas1[:, 4], 'mo--')\n",
    "plt.title(\"Variación en la cantidad de iteraciones\")\n",
    "\n",
    "plt.xlabel('Matriz de prueba')\n",
    "plt.ylabel('Iteraciones')\n",
    "\n",
    "plt.legend([\"0.75\", \"0.5\", \"0.25\", \"rand\", \"1\"])\n",
    "plt.show()"
   ]
  },
  {
   "cell_type": "markdown",
   "metadata": {
    "id": "BKEatH-C20av"
   },
   "source": [
    "Podemos ver que, el método termina en menos iteraciones cuando multiplicamos a $t_k$ por 0,75 y cuando multiplicamos por 0,25 tarda más iteraciones, es decir, para valores más cercanos a 1 es cuando mejor da. Sin embargo, cuando multiplicamos a $t_k$ por 1 tarda muchas mas iteraciones. Esta diferencia en la cantidad de iteraciones aumenta cuando la distancia entre el autovalor máximo y mínimo de una matriz es mayor."
   ]
  },
  {
   "cell_type": "markdown",
   "metadata": {
    "id": "PSg0U6m39ivF"
   },
   "source": [
    "### 2."
   ]
  },
  {
   "cell_type": "code",
   "execution_count": null,
   "metadata": {
    "colab": {
     "base_uri": "https://localhost:8080/"
    },
    "id": "JU51x66g9jDe",
    "outputId": "6f57f219-00bd-4de7-e4b1-3a5ada005793"
   },
   "outputs": [
    {
     "name": "stdout",
     "output_type": "stream",
     "text": [
      "ALCANZO MAX ITERACION!\n",
      "ALCANZO MAX ITERACION!\n"
     ]
    }
   ],
   "source": [
    "lambdas2 = np.zeros((len(matricesA), 3))\n",
    "\n",
    "# Guardamos sólo la cantidad de iteraciones en las que el método resuelve el sistema\n",
    "\n",
    "# Probamos con lambdak = 1\n",
    "for i in range(1, len(matricesA) + 1):\n",
    "  lambdas2[i-1, 0] = metodo_gradiente(matricesA[i-1],b_pruebaA, x_inicialA, eps, kmax, 1, 0, False)[1]\n",
    "\n",
    "# Probamos con lambdak = 0.9\n",
    "for i in range(1, len(matricesA) + 1):\n",
    "  lambdas2[i-1, 1] = metodo_gradiente(matricesA[i-1],b_pruebaA, x_inicialA, eps, kmax, 0.9, 0, False)[1]\n",
    "\n",
    "# Probamos con lambdak = 0.99\n",
    "for i in range(1, len(matricesA) + 1):\n",
    "  lambdas2[i-1, 2] = metodo_gradiente(matricesA[i-1],b_pruebaA, x_inicialA, eps, kmax, 0.99, 0, False)[1]"
   ]
  },
  {
   "cell_type": "code",
   "execution_count": null,
   "metadata": {
    "colab": {
     "base_uri": "https://localhost:8080/",
     "height": 295
    },
    "id": "Ca8z_dAKMTps",
    "outputId": "2723fc39-1981-4999-bea0-c67934261f90",
    "scrolled": true
   },
   "outputs": [
    {
     "data": {
      "image/png": "[encoded data removed]",
      "text/plain": [
       "<Figure size 432x288 with 1 Axes>"
      ]
     },
     "metadata": {
      "needs_background": "light"
     },
     "output_type": "display_data"
    }
   ],
   "source": [
    "%matplotlib inline\n",
    "\n",
    "plt.plot(np.array([1., 2., 3., 4., 5., 6., 7.]), lambdas2[:, 0], 'go--')\n",
    "plt.plot(np.array([1., 2., 3., 4., 5., 6., 7.]), lambdas2[:, 1], 'bo--')\n",
    "plt.plot(np.array([1., 2., 3., 4., 5., 6., 7.]), lambdas2[:, 2], 'ro--')\n",
    "plt.title(\"Variación en la cantidad de iteraciones\")\n",
    "\n",
    "plt.xlabel('Matriz de prueba')\n",
    "plt.ylabel('Iteraciones')\n",
    "\n",
    "plt.legend([\"1\", \"0.9\", \"0.99\"])\n",
    "plt.show()"
   ]
  },
  {
   "cell_type": "markdown",
   "metadata": {
    "id": "PIgT9OgQPmtJ"
   },
   "source": [
    "Como en el inciso anterior, tomando $\\lambda_k$$t_k$ con $\\lambda_k$ muy cercano a 1 pero que no llega a serlo disminuye la cantidad de iteraciones para lograr el resultado. Esto sucede porque tomando $\\lambda_k$ = 1 nos estamos moviendo en dirección ortogonal."
   ]
  },
  {
   "cell_type": "markdown",
   "metadata": {
    "id": "r8SnWuY49jYE"
   },
   "source": [
    "### 3."
   ]
  },
  {
   "cell_type": "code",
   "execution_count": null,
   "metadata": {
    "id": "6AQqDirfV59-"
   },
   "outputs": [],
   "source": [
    "B1 = np.diag([1., 1.])\n",
    "B2 = np.diag([1., 1.1])\n",
    "B3 = np.diag([1., 10.])\n",
    "B4 = np.diag([1., 50.])\n",
    "B5 = np.diag([1., 100.])\n",
    "B6 = np.diag([1.5, 6.])\n",
    "B7 = np.diag([1.5, 7.7])\n",
    "B8 = np.diag([0.75,30000.])\n",
    "B9 = np.diag([30000.,0.75])\n",
    "B10 = np.diag([6.,20.])\n",
    "B11 = np.diag([30000.,.5])\n",
    "B12 = np.diag([.25,30000.])\n",
    "B13 = np.diag([21.,60.])\n",
    "B14 = np.diag([150000,2.25])\n",
    "B15 = np.diag([1., 10000.])\n",
    "B16 = np.diag([1., 1000.])\n",
    "\n",
    "matricesB = np.array([B1, B2, B3, B4, B5, B6, B7,B8,B9,B10,B11,B12,B13,B14,B15,B16])"
   ]
  },
  {
   "cell_type": "code",
   "execution_count": null,
   "metadata": {
    "colab": {
     "base_uri": "https://localhost:8080/"
    },
    "id": "Qr8xbAa49jkO",
    "outputId": "54bbe3a9-f0de-47d1-ccb2-6a2809be91c1"
   },
   "outputs": [
    {
     "name": "stdout",
     "output_type": "stream",
     "text": [
      "ALCANZO MAX ITERACION!\n",
      "ALCANZO MAX ITERACION!\n",
      "ALCANZO MAX ITERACION!\n",
      "ALCANZO MAX ITERACION!\n",
      "ALCANZO MAX ITERACION!\n",
      "ALCANZO MAX ITERACION!\n",
      "ALCANZO MAX ITERACION!\n",
      "ALCANZO MAX ITERACION!\n",
      "ALCANZO MAX ITERACION!\n",
      "ALCANZO MAX ITERACION!\n",
      "ALCANZO MAX ITERACION!\n",
      "ALCANZO MAX ITERACION!\n",
      "ALCANZO MAX ITERACION!\n",
      "ALCANZO MAX ITERACION!\n",
      "ALCANZO MAX ITERACION!\n",
      "ALCANZO MAX ITERACION!\n",
      "ALCANZO MAX ITERACION!\n",
      "ALCANZO MAX ITERACION!\n",
      "ALCANZO MAX ITERACION!\n",
      "ALCANZO MAX ITERACION!\n",
      "ALCANZO MAX ITERACION!\n",
      "ALCANZO MAX ITERACION!\n",
      "ALCANZO MAX ITERACION!\n",
      "ALCANZO MAX ITERACION!\n",
      "ALCANZO MAX ITERACION!\n",
      "ALCANZO MAX ITERACION!\n",
      "ALCANZO MAX ITERACION!\n",
      "ALCANZO MAX ITERACION!\n",
      "ALCANZO MAX ITERACION!\n",
      "ALCANZO MAX ITERACION!\n",
      "ALCANZO MAX ITERACION!\n",
      "ALCANZO MAX ITERACION!\n"
     ]
    }
   ],
   "source": [
    "titas3 = np.zeros((len(matricesB), 4))\n",
    "b_pruebaB = np.zeros(2)\n",
    "x_inicialB = np.ones(2)\n",
    "\n",
    "# Guardamos sólo la cantidad de iteraciones en las que el método resuelve el sistema\n",
    "\n",
    "# Probamos con tita = -1/3*pi\n",
    "for i in range(1, len(matricesB) + 1):\n",
    "  titas3[i-1, 0] = metodo_gradiente(matricesB[i-1],b_pruebaB, x_inicialB, eps, kmax, 1, -1/3*np.pi, True)[1]\n",
    "\n",
    "# Probamos con tita = -1/6*pi\n",
    "for i in range(1, len(matricesB) + 1):\n",
    "  titas3[i-1, 1] = metodo_gradiente(matricesB[i-1],b_pruebaB, x_inicialB, eps, kmax, 1, -1/6*np.pi, True)[1]\n",
    "\n",
    "# Probamos con tita = 1/3*pi\n",
    "for i in range(1, len(matricesB) + 1):\n",
    "  titas3[i-1, 2] = metodo_gradiente(matricesB[i-1],b_pruebaB, x_inicialB, eps, kmax, 1, 1/3*np.pi, True)[1]\n",
    "\n",
    "# Probamos con tita = 1/6*pi\n",
    "for i in range(1, len(matricesB) + 1):\n",
    "  titas3[i-1, 3] = metodo_gradiente(matricesB[i-1],b_pruebaB, x_inicialB, eps, kmax, 1, 1/6*np.pi, True)[1]"
   ]
  },
  {
   "cell_type": "code",
   "execution_count": null,
   "metadata": {
    "colab": {
     "base_uri": "https://localhost:8080/"
    },
    "id": "0Jh9Jkk4w2_T",
    "outputId": "0b2387b2-0f22-4067-8463-eb742e983837"
   },
   "outputs": [
    {
     "name": "stdout",
     "output_type": "stream",
     "text": [
      "[ 1.  7. 16. 11.  9. 19. 19.  5.  5. 20.  5.  5. 21.  5.  5.  7.]\n",
      "[[1.00e+00 1.00e+00 1.00e+00 1.00e+00]\n",
      " [1.00e+04 2.20e+01 1.00e+04 2.20e+01]\n",
      " [1.00e+04 4.30e+01 1.00e+04 4.30e+01]\n",
      " [1.00e+04 1.57e+02 1.00e+04 1.57e+02]\n",
      " [1.00e+04 2.95e+02 1.00e+04 2.95e+02]\n",
      " [1.00e+04 1.60e+01 1.00e+04 1.80e+01]\n",
      " [1.00e+04 1.90e+01 1.00e+04 1.90e+01]\n",
      " [1.00e+04 9.00e+00 1.00e+04 9.00e+00]\n",
      " [1.00e+04 9.00e+00 1.00e+04 9.00e+00]\n",
      " [1.00e+04 1.30e+01 1.00e+04 1.40e+01]\n",
      " [1.00e+04 8.00e+00 1.00e+04 8.00e+00]\n",
      " [5.00e+00 5.00e+00 5.00e+00 5.00e+00]\n",
      " [1.00e+04 2.00e+01 1.00e+04 2.50e+01]\n",
      " [1.00e+04 1.00e+04 1.00e+04 1.00e+04]\n",
      " [1.00e+04 1.00e+04 1.00e+04 1.00e+04]\n",
      " [1.00e+04 2.74e+03 1.00e+04 2.74e+03]]\n"
     ]
    }
   ],
   "source": [
    "b_pruebaB = np.zeros(2)\n",
    "x_inicialB = np.ones(2)\n",
    "optima = np.zeros(len(matricesB))\n",
    "\n",
    "# Guardamos sólo la cantidad de iteraciones en las que el método resuelve el sistema\n",
    "\n",
    "# Con método del gradiente con longitud paso óptima\n",
    "for i in range(1, len(matricesB) + 1):\n",
    "  optima[i-1] = metodo_gradiente(matricesB[i-1],b_pruebaB, x_inicialB, eps, kmax, 1, 0, False)[1]\n",
    "\n",
    "print(optima)\n",
    "print(titas3)"
   ]
  },
  {
   "cell_type": "code",
   "execution_count": null,
   "metadata": {
    "colab": {
     "base_uri": "https://localhost:8080/",
     "height": 295
    },
    "id": "qPk0bQoEzDDm",
    "outputId": "dae381cd-add7-423e-c919-3c8c29d81cdf"
   },
   "outputs": [
    {
     "data": {
      "image/png": "[encoded data removed]",
      "text/plain": [
       "<Figure size 432x288 with 1 Axes>"
      ]
     },
     "metadata": {
      "needs_background": "light"
     },
     "output_type": "display_data"
    }
   ],
   "source": [
    "%matplotlib inline\n",
    "\n",
    "plt.plot(np.array([1., 2., 3., 4., 5., 6., 7.,8.,9.,10.,11.,12.,13.,14.,15.,16.]), titas3[:, 0], 'go--')\n",
    "plt.plot(np.array([1., 2., 3., 4., 5., 6., 7.,8.,9.,10.,11.,12.,13.,14.,15.,16.]), titas3[:, 1], 'bo--')\n",
    "plt.plot(np.array([1., 2., 3., 4., 5., 6., 7.,8.,9.,10.,11.,12.,13.,14.,15.,16.]), titas3[:, 2], 'ro--')\n",
    "plt.plot(np.array([1., 2., 3., 4., 5., 6., 7.,8.,9.,10.,11.,12.,13.,14.,15.,16.]), titas3[:, 3], 'ko--')\n",
    "plt.plot(np.array([1., 2., 3., 4., 5., 6., 7.,8.,9.,10.,11.,12.,13.,14.,15.,16.]), optima[:], 'yo--')\n",
    "plt.title(\"Variación en la cantidad de iteraciones\")\n",
    "\n",
    "plt.xlabel('Matriz de prueba')\n",
    "plt.ylabel('Iteraciones')\n",
    "\n",
    "plt.legend([\"-pi/3\", \"-pi/6\", \"pi/3\", \"pi/6\",\"óptima\"])\n",
    "plt.show()"
   ]
  },
  {
   "cell_type": "markdown",
   "metadata": {
    "id": "K037N5W2oQXM"
   },
   "source": [
    "Cuando rotamos con $\\theta = \\frac{1}{3}\\pi$ o $\\theta = \\frac{-1}{3}\\pi$ el método empeora.  Sin embargo, multiplicando por $\\theta = \\frac{1}{6}\\pi$ y $\\theta = \\frac{-1}{6}\\pi$ en algunos casos la cantidad de iteraciones que toma el método es menor que la cantidad de iteraciones con la óptima.\n",
    "Podemos notar que con $\\theta = \\frac{1}{3}\\pi$ o $\\theta = \\frac{-1}{3}\\pi$ al ser una rotación mayor, el resultado difiere del óptimo más que con $\\theta = \\frac{1}{6}\\pi$ o $\\theta = \\frac{-1}{6}\\pi$ cuya rotación es menor.\n",
    "\n",
    "Respecto a los casos de matrices donde la rotación con $\\theta = \\frac{1}{6}\\pi$ y $\\theta = \\frac{-1}{6}\\pi$ realiza menos iteraciones, existe una distancia no muy grande entre sus autovalores pero tampoco muy pequeña proporcional al módulo de los mismos.\n",
    "\n",
    "Por último, vale la pena destacar que en los casos de $\\theta = \\frac{1}{6}\\pi$ y $\\theta = \\frac{-1}{6}\\pi$ llegan al tope de 10000, la distancia entre los autovalores de la matrices correspondientes es muy grande.\n"
   ]
  },
  {
   "cell_type": "code",
   "execution_count": null,
   "metadata": {
    "colab": {
     "base_uri": "https://localhost:8080/"
    },
    "id": "Z4k3QC7s8hqP",
    "outputId": "394b7643-d037-4161-9ce4-491208f24a6e"
   },
   "outputs": [
    {
     "name": "stdout",
     "output_type": "stream",
     "text": [
      "ALCANZO MAX ITERACION!\n",
      "ALCANZO MAX ITERACION!\n",
      "ALCANZO MAX ITERACION!\n",
      "ALCANZO MAX ITERACION!\n",
      "ALCANZO MAX ITERACION!\n",
      "ALCANZO MAX ITERACION!\n",
      "ALCANZO MAX ITERACION!\n",
      "ALCANZO MAX ITERACION!\n",
      "ALCANZO MAX ITERACION!\n",
      "ALCANZO MAX ITERACION!\n",
      "ALCANZO MAX ITERACION!\n",
      "ALCANZO MAX ITERACION!\n",
      "ALCANZO MAX ITERACION!\n",
      "ALCANZO MAX ITERACION!\n",
      "ALCANZO MAX ITERACION!\n",
      "ALCANZO MAX ITERACION!\n",
      "ALCANZO MAX ITERACION!\n",
      "ALCANZO MAX ITERACION!\n",
      "ALCANZO MAX ITERACION!\n",
      "ALCANZO MAX ITERACION!\n",
      "ALCANZO MAX ITERACION!\n",
      "ALCANZO MAX ITERACION!\n",
      "ALCANZO MAX ITERACION!\n",
      "ALCANZO MAX ITERACION!\n",
      "ALCANZO MAX ITERACION!\n",
      "ALCANZO MAX ITERACION!\n",
      "ALCANZO MAX ITERACION!\n",
      "ALCANZO MAX ITERACION!\n",
      "ALCANZO MAX ITERACION!\n",
      "ALCANZO MAX ITERACION!\n",
      "ALCANZO MAX ITERACION!\n",
      "ALCANZO MAX ITERACION!\n",
      "ALCANZO MAX ITERACION!\n",
      "ALCANZO MAX ITERACION!\n",
      "ALCANZO MAX ITERACION!\n",
      "ALCANZO MAX ITERACION!\n",
      "ALCANZO MAX ITERACION!\n",
      "ALCANZO MAX ITERACION!\n",
      "ALCANZO MAX ITERACION!\n",
      "ALCANZO MAX ITERACION!\n",
      "ALCANZO MAX ITERACION!\n",
      "ALCANZO MAX ITERACION!\n",
      "[ 1.  7. 17. 11. 11. 19. 19.  5.  5. 21.  5.  5. 21.  5.  7.  7.]\n",
      "[[1.000e+00 1.000e+00 1.000e+00 1.000e+00]\n",
      " [1.000e+04 2.700e+01 1.000e+04 2.700e+01]\n",
      " [1.000e+04 4.500e+01 1.000e+04 4.500e+01]\n",
      " [1.000e+04 9.800e+01 1.000e+04 1.090e+02]\n",
      " [1.000e+04 3.100e+02 1.000e+04 3.100e+02]\n",
      " [1.000e+04 1.700e+01 1.000e+04 1.900e+01]\n",
      " [1.000e+04 1.800e+01 1.000e+04 2.000e+01]\n",
      " [1.000e+04 1.000e+04 1.000e+04 1.000e+04]\n",
      " [1.000e+04 1.000e+04 1.000e+04 1.000e+04]\n",
      " [1.000e+04 1.400e+01 1.000e+04 1.600e+01]\n",
      " [1.000e+04 1.000e+04 1.000e+04 1.000e+04]\n",
      " [1.000e+04 1.000e+04 1.000e+04 1.000e+04]\n",
      " [1.000e+04 2.300e+01 1.000e+04 2.600e+01]\n",
      " [1.000e+04 1.000e+04 1.000e+04 1.000e+04]\n",
      " [1.000e+04 1.000e+04 1.000e+04 1.000e+04]\n",
      " [1.000e+04 2.887e+03 1.000e+04 2.887e+03]]\n"
     ]
    }
   ],
   "source": [
    "#El mismo experimento pero esta vez con un vector inicial aleatorio\n",
    "b_pruebaB = np.zeros(2)\n",
    "x_inicialB2 = np.random.rand(2)*3\n",
    "optima = np.zeros(len(matricesB))\n",
    "\n",
    "# Guardamos sólo la cantidad de iteraciones en las que el método resuelve el sistema\n",
    "\n",
    "# Probamos con tita = -1/3*pi\n",
    "for i in range(1, len(matricesB) + 1):\n",
    "  titas3[i-1, 0] = metodo_gradiente(matricesB[i-1],b_pruebaB, x_inicialB2, eps, kmax, 1, -1/3*np.pi, True)[1]\n",
    "\n",
    "# Probamos con tita = -1/6*pi\n",
    "for i in range(1, len(matricesB) + 1):\n",
    "  titas3[i-1, 1] = metodo_gradiente(matricesB[i-1],b_pruebaB, x_inicialB2, eps, kmax, 1, -1/6*np.pi, True)[1]\n",
    "\n",
    "# Probamos con tita = 1/3*pi\n",
    "for i in range(1, len(matricesB) + 1):\n",
    "  titas3[i-1, 2] = metodo_gradiente(matricesB[i-1],b_pruebaB, x_inicialB2, eps, kmax, 1, 1/3*np.pi, True)[1]\n",
    "\n",
    "# Probamos con tita = 1/6*pi\n",
    "for i in range(1, len(matricesB) + 1):\n",
    "  titas3[i-1, 3] = metodo_gradiente(matricesB[i-1],b_pruebaB, x_inicialB2, eps, kmax, 1, 1/6*np.pi, True)[1]\n",
    "\n",
    "# Con método del gradiente con longitud paso óptima\n",
    "for i in range(1, len(matricesB) + 1):\n",
    "  optima[i-1] = metodo_gradiente(matricesB[i-1],b_pruebaB, x_inicialB2, eps, kmax, 1, 0, False)[1]\n",
    "\n",
    "print(optima)\n",
    "print(titas3)"
   ]
  },
  {
   "cell_type": "code",
   "execution_count": null,
   "metadata": {
    "colab": {
     "base_uri": "https://localhost:8080/",
     "height": 295
    },
    "id": "kXivVbys-lCX",
    "outputId": "6af9d652-70ce-4459-9635-4441d9fa5e0e"
   },
   "outputs": [
    {
     "data": {
      "image/png": "[encoded data removed]",
      "text/plain": [
       "<Figure size 432x288 with 1 Axes>"
      ]
     },
     "metadata": {
      "needs_background": "light"
     },
     "output_type": "display_data"
    }
   ],
   "source": [
    "%matplotlib inline\n",
    "\n",
    "plt.plot(np.array([1., 2., 3., 4., 5., 6., 7.,8.,9.,10.,11.,12.,13.,14.,15.,16.]), titas3[:, 0], 'go--')\n",
    "plt.plot(np.array([1., 2., 3., 4., 5., 6., 7.,8.,9.,10.,11.,12.,13.,14.,15.,16.]), titas3[:, 1], 'bo--')\n",
    "plt.plot(np.array([1., 2., 3., 4., 5., 6., 7.,8.,9.,10.,11.,12.,13.,14.,15.,16.]), titas3[:, 2], 'ro--')\n",
    "plt.plot(np.array([1., 2., 3., 4., 5., 6., 7.,8.,9.,10.,11.,12.,13.,14.,15.,16.]), titas3[:, 3], 'ko--')\n",
    "plt.plot(np.array([1., 2., 3., 4., 5., 6., 7.,8.,9.,10.,11.,12.,13.,14.,15.,16.]), optima[:], 'yo--')\n",
    "plt.title(\"Variación en la cantidad de iteraciones\")\n",
    "\n",
    "plt.xlabel('Matriz de prueba')\n",
    "plt.ylabel('Iteraciones')\n",
    "\n",
    "plt.legend([\"-pi/3\", \"-pi/6\", \"pi/3\", \"pi/6\",\"óptima\"])\n",
    "plt.show()"
   ]
  },
  {
   "cell_type": "markdown",
   "metadata": {
    "id": "mKe8Q78dENCe"
   },
   "source": [
    "Con un vector inicial $x_0$ aleatorio, observamos resultados muy similares en menor o mayor medida (aleatoriamente)."
   ]
  },
  {
   "cell_type": "markdown",
   "metadata": {
    "id": "nUeParnw6tWk"
   },
   "source": [
    "##  Método del gradiente conjugado\n",
    "\n",
    "### 1."
   ]
  },
  {
   "cell_type": "code",
   "execution_count": null,
   "metadata": {
    "id": "dPSP6tFu6y36"
   },
   "outputs": [],
   "source": [
    "def gradiente_conjugado(A, b, x0, eps, k_max, lambda_t,lambda_beta):\n",
    "    gradientes = []\n",
    "    d0 = -(A@x0+b)\n",
    "    xk = x0.copy()\n",
    "    dk = d0.copy()\n",
    "    k=0\n",
    "    while np.linalg.norm(A@xk+b)>eps and k<k_max:\n",
    "        \n",
    "        gradientes.append(np.linalg.norm(A@xk+b))\n",
    "        \n",
    "        tk = -lambda_t*(((A@xk+b).T@dk)/(dk.T@A@dk))\n",
    "\n",
    "        xk += tk*dk\n",
    "\n",
    "        betak = lambda_beta*(dk.T@A@(A@xk+b))/(dk.T@A@dk)\n",
    "\n",
    "        dk = -(A@xk+b) + betak*dk\n",
    "\n",
    "        k+=1\n",
    "    return xk, k, gradientes "
   ]
  },
  {
   "cell_type": "code",
   "execution_count": null,
   "metadata": {
    "colab": {
     "base_uri": "https://localhost:8080/"
    },
    "id": "o1EC0WGG96xC",
    "outputId": "05e9da29-7672-4d91-f349-818f419f86cf"
   },
   "outputs": [
    {
     "name": "stderr",
     "output_type": "stream",
     "text": [
      "<ipython-input-97-3fc93e58ca57>:14: VisibleDeprecationWarning:\n",
      "\n",
      "Creating an ndarray from ragged nested sequences (which is a list-or-tuple of lists-or-tuples-or ndarrays with different lengths or shapes) is deprecated. If you meant to do this, you must specify 'dtype=object' when creating the ndarray.\n",
      "\n"
     ]
    }
   ],
   "source": [
    "C1 = np.diag([1., 4005])\n",
    "C2 = np.diag([1., 3.])\n",
    "C3 = np.diag([1., 520., 5045.])\n",
    "C4 = np.diag([1.1, 1.2, 1.3])\n",
    "C5 = np.diag([1.1, 100, 130,545,733,154.8])\n",
    "C6 = np.diag([1.1, 1.2, 1.3,1.4,1.6,1.7])\n",
    "C7 = np.diag([15., 12., 100., 200., 110., 202., 30., 45., 36., 70.])\n",
    "C8 = np.diag([1., 9., 23., 3., 6., 2., 5., 8., 4.4, 7.])\n",
    "\n",
    "C5aux = np.diag([1.1, 100, 1300,545,7333,1354.8])\n",
    "C7aux = np.diag([15., 10., 100., 200., 1000., 2000., 30., 45., 367., 7000.])\n",
    "C7aux2 = np.diag([1., 10., 100., 200., 1000., 2000., 30., 45., 367., 7000.])\n",
    "\n",
    "matricesC = np.array([C1, C2, C3, C4, C5, C6,C7,C8])"
   ]
  },
  {
   "cell_type": "markdown",
   "metadata": {
    "id": "qn1v1ESaEKkf"
   },
   "source": [
    "Las matrices con índice impar son matrices mal condicionadas y las de índice par son matrices bien condicionadas.\n",
    "\n"
   ]
  },
  {
   "cell_type": "code",
   "execution_count": null,
   "metadata": {
    "colab": {
     "base_uri": "https://localhost:8080/"
    },
    "id": "2nGWVHYWFArd",
    "outputId": "376b3e70-db77-4cb2-c5f0-442fe2354589"
   },
   "outputs": [
    {
     "name": "stdout",
     "output_type": "stream",
     "text": [
      "[ 7. 13. 14.]\n"
     ]
    },
    {
     "name": "stderr",
     "output_type": "stream",
     "text": [
      "<ipython-input-98-f657bd2b7b06>:1: VisibleDeprecationWarning:\n",
      "\n",
      "Creating an ndarray from ragged nested sequences (which is a list-or-tuple of lists-or-tuples-or ndarrays with different lengths or shapes) is deprecated. If you meant to do this, you must specify 'dtype=object' when creating the ndarray.\n",
      "\n"
     ]
    }
   ],
   "source": [
    "matricesAuxiliares = np.array([C5aux,C7aux,C7aux2])\n",
    "iterConjugadoAux = np.zeros(len(matricesAuxiliares))\n",
    "\n",
    "for i in range(1, len(matricesAuxiliares) + 1):\n",
    "  iterConjugadoAux[i-1] = gradiente_conjugado(matricesAuxiliares[i-1],np.zeros(len(matricesAuxiliares[i-1])), np.ones(len(matricesAuxiliares[i-1])), eps, kmax,1,1)[1]\n",
    "  \n",
    "print(iterConjugadoAux)\n"
   ]
  },
  {
   "cell_type": "markdown",
   "metadata": {
    "id": "KLJ0Y_dS3Wo3"
   },
   "source": [
    "Al correr el método de gradiente conjugado sobre las matrices auxiliarers, notamos que tardamos más que lo que debería por el error numérico surgido de la distancia entre los autovalores. Sus número de iteraciones (7, 13, 14) difieren de (6, 10, 10) que son sus respectivas cantidades de autovalores distintos. "
   ]
  },
  {
   "cell_type": "code",
   "execution_count": null,
   "metadata": {
    "colab": {
     "base_uri": "https://localhost:8080/"
    },
    "id": "aqoTSx9-qIH4",
    "outputId": "aa3e20c9-41b0-4988-944a-06f9944666f5"
   },
   "outputs": [
    {
     "name": "stdout",
     "output_type": "stream",
     "text": [
      "[ 2.  2.  3.  3.  6.  6. 10. 10.]\n"
     ]
    }
   ],
   "source": [
    "iterConjugado = np.zeros(len(matricesC))\n",
    "gradi = []\n",
    "\n",
    "# Guardamos sólo la cantidad de iteraciones en las que el método resuelve el sistema\n",
    "\n",
    "# Probamos con lambdak = 1\n",
    "for i in range(1, len(matricesC) + 1):\n",
    "  iterConjugado[i-1] = gradiente_conjugado(matricesC[i-1],np.zeros(len(matricesC[i-1])), np.ones(len(matricesC[i-1])), eps, kmax,1,1)[1]\n",
    "  gradi.append(gradiente_conjugado(matricesC[i-1],np.zeros(len(matricesC[i-1])), np.ones(len(matricesC[i-1])), eps, kmax,1,1)[2])\n",
    "\n",
    "print(iterConjugado)\n"
   ]
  },
  {
   "cell_type": "markdown",
   "metadata": {
    "id": "0-Tach0m_b62"
   },
   "source": [
    "Este vector nos muestra en cuántas iteraciones termina el método para cada matriz y podemos ver que, este número es igual a la cantidad de autovalores distintos que tiene cada matriz."
   ]
  },
  {
   "cell_type": "code",
   "execution_count": null,
   "metadata": {
    "colab": {
     "base_uri": "https://localhost:8080/",
     "height": 281
    },
    "id": "U_C35wbV9CTe",
    "outputId": "5f25fe84-ccd6-4fed-8b90-fb9ac89af46e"
   },
   "outputs": [
    {
     "data": {
      "image/png": "[encoded data removed]",
      "text/plain": [
       "<Figure size 432x288 with 4 Axes>"
      ]
     },
     "metadata": {
      "needs_background": "light"
     },
     "output_type": "display_data"
    }
   ],
   "source": [
    "figure, axis = plt.subplots(2, 2)\n",
    "\n",
    "# De 2x2\n",
    "axis[0, 0].plot(np.arange(2)+1,gradi[0],'go--')\n",
    "axis[0, 0].plot(np.arange(2)+1,gradi[1],'bo--')\n",
    "axis[0, 0].set_title(\"2x2\")\n",
    "\n",
    "# De 3x3\n",
    "axis[0, 1].plot(np.arange(3)+1,gradi[2],'go--')\n",
    "axis[0, 1].plot(np.arange(3)+1,gradi[3],'bo--')\n",
    "axis[0, 1].set_title(\"3x3\")\n",
    "\n",
    "# De 6x6\n",
    "axis[1, 0].plot(np.arange(6)+1,gradi[4],'go--')\n",
    "axis[1, 0].plot(np.arange(6)+1,gradi[5],'bo--')\n",
    "axis[1, 0].set_title(\"6x6\")\n",
    "\n",
    "# De 10x10\n",
    "axis[1, 1].plot(np.arange(10)+1,gradi[6],'go--')\n",
    "axis[1, 1].plot(np.arange(10)+1,gradi[7],'bo--')\n",
    "axis[1, 1].set_title(\"10x10\")\n",
    "\n",
    "# Combine all the operations and display\n",
    "plt.show()"
   ]
  },
  {
   "cell_type": "markdown",
   "metadata": {
    "id": "BjCJnqSx-6Xw"
   },
   "source": [
    "Estos gráficos nos muestran cómo la norma de los gradientes en cada iteración disminuye cuadráticamente (en el de 10x10 es en dónde mejor se observa dicho fenómeno). También se observa que, al aumentar la distancia entre los autovalores de la matriz, parece haber un mayor coeficiente cuadrático en la parábola que se dibuja."
   ]
  },
  {
   "cell_type": "markdown",
   "metadata": {
    "id": "csZxj9tO956k"
   },
   "source": [
    "2."
   ]
  },
  {
   "cell_type": "code",
   "execution_count": null,
   "metadata": {
    "id": "wZdaro0u97RK"
   },
   "outputs": [],
   "source": [
    "iteMGC = np.zeros((6,len(matricesC)))\n",
    "\n",
    "for i in range(1, len(matricesC)+1):\n",
    "  iteMGC[0,i-1] = gradiente_conjugado(matricesC[i-1],np.zeros(len(matricesC[i-1])), np.ones(len(matricesC[i-1])), eps, kmax,0.9,1)[1]\n",
    "  #gradi.append(gradiente_conjugado(matricesC[i-1],np.zeros(len(matricesC[i-1])), np.ones(len(matricesC[i-1])), eps, kmax,0.9,1)[2])\n",
    "\n",
    "for i in range(1, len(matricesC)):\n",
    "  iteMGC[1,i-1] = gradiente_conjugado(matricesC[i-1],np.zeros(len(matricesC[i-1])), np.ones(len(matricesC[i-1])), eps, kmax,0.99,1)[1]\n",
    "  #gradi.append(gradiente_conjugado(matricesC[i-1],np.zeros(len(matricesC[i-1])), np.ones(len(matricesC[i-1])), eps, kmax,0.99,1)[2])\n",
    "\n",
    "for i in range(1, len(matricesC) + 1):\n",
    "  iteMGC[2,i-1] = gradiente_conjugado(matricesC[i-1],np.zeros(len(matricesC[i-1])), np.ones(len(matricesC[i-1])), eps, kmax,1,0.9)[1]\n",
    "  #gradi.append(gradiente_conjugado(matricesC[i-1],np.zeros(len(matricesC[i-1])), np.ones(len(matricesC[i-1])), eps, kmax,1,0.9)[2])\n",
    "\n",
    "for i in range(1, len(matricesC) + 1):\n",
    "  iteMGC[3,i-1] = gradiente_conjugado(matricesC[i-1],np.zeros(len(matricesC[i-1])), np.ones(len(matricesC[i-1])), eps, kmax,1,0.99)[1]\n",
    "  #gradi.append(gradiente_conjugado(matricesC[i-1],np.zeros(len(matricesC[i-1])), np.ones(len(matricesC[i-1])), eps, kmax,1,0.99)[2])\n",
    "\n",
    "for i in range(1, len(matricesC) + 1):\n",
    "  iteMGC[4,i-1] = gradiente_conjugado(matricesC[i-1],np.zeros(len(matricesC[i-1])), np.ones(len(matricesC[i-1])), eps, kmax,0.9,0.9)[1]\n",
    "  #gradi.append(gradiente_conjugado(matricesC[i-1],np.zeros(len(matricesC[i-1])), np.ones(len(matricesC[i-1])), eps, kmax,0.9,0.9)[2])\n",
    "\n",
    "for i in range(1, len(matricesC) + 1):\n",
    "  iteMGC[5,i-1] = gradiente_conjugado(matricesC[i-1],np.zeros(len(matricesC[i-1])), np.ones(len(matricesC[i-1])), eps, kmax,0.99,0.99)[1]\n",
    "  #gradi.append(gradiente_conjugado(matricesC[i-1],np.zeros(len(matricesC[i-1])), np.ones(len(matricesC[i-1])), eps, kmax,0.99,0.99)[2])\n"
   ]
  },
  {
   "cell_type": "code",
   "execution_count": null,
   "metadata": {
    "colab": {
     "base_uri": "https://localhost:8080/",
     "height": 295
    },
    "id": "hyA970Jjs4c8",
    "outputId": "9d674bee-bb49-4f56-ea54-0785e2f2cefe"
   },
   "outputs": [
    {
     "data": {
      "image/png": "[encoded data removed]",
      "text/plain": [
       "<Figure size 432x288 with 1 Axes>"
      ]
     },
     "metadata": {
      "needs_background": "light"
     },
     "output_type": "display_data"
    }
   ],
   "source": [
    "plt.plot(np.arange(1,len(matricesC)+1), iteMGC[0,:], 'go--')\n",
    "plt.plot(np.arange(1,len(matricesC)+1), iteMGC[1,:], 'bo--')\n",
    "plt.plot(np.arange(1,len(matricesC)+1), iteMGC[2,:], 'ro--')\n",
    "plt.plot(np.arange(1,len(matricesC)+1), iteMGC[3,:], 'ko--')\n",
    "plt.plot(np.arange(1,len(matricesC)+1), iteMGC[4,:], 'yo--')\n",
    "plt.plot(np.arange(1,len(matricesC)+1), iteMGC[5,:], 'mo--')\n",
    "plt.plot(np.arange(1,len(matricesC)+1), iterConjugado, 'co--')\n",
    "plt.title(\"Variación en la cantidad de iteraciones\")\n",
    "\n",
    "plt.xlabel('Matriz de prueba')\n",
    "plt.ylabel('Iteraciones')\n",
    "\n",
    "plt.legend([\"(0,9;1)\", \"(0,99;1)\", \"(1;0,9)\",\"(1;0,99)\",\"(0,9;0,9)\",\"(0,99;0,99)\",\"óptima\"])\n",
    "plt.show()"
   ]
  },
  {
   "cell_type": "markdown",
   "metadata": {
    "id": "1DfQ0-8WBNFT"
   },
   "source": [
    "La solución óptima es la que menor cantidad de iteraciones lleva para obtener el mínimo. Vemos que en las matrices de prueba de índice par (menor distancia tienen los autovalores) se nota que no varía tanto la cantidad de iteraciones siendo más próximas a la óptima aquellas que están aún más cerca de 1. Además, para las matrices de prueba de índice impar la cantidad iteraciones varía mucho más según cuán alejado este del óptimo. \n",
    "Los casos de (1, 0.99) y (0.99, 1) son los que presentan mayor cercanía a la cantidad de iteraciones que tarda la solución óptima, esto se debe a que son los que están más cerca."
   ]
  },
  {
   "cell_type": "markdown",
   "metadata": {
    "id": "2g1fTRxx-A3V"
   },
   "source": [
    "### 3."
   ]
  },
  {
   "cell_type": "code",
   "execution_count": null,
   "metadata": {
    "colab": {
     "base_uri": "https://localhost:8080/"
    },
    "id": "LsaSEuPH-BFC",
    "outputId": "2891b9c7-77e9-45de-cb95-a9864751942f"
   },
   "outputs": [
    {
     "name": "stderr",
     "output_type": "stream",
     "text": [
      "<ipython-input-103-9a273fc010d0>:4: VisibleDeprecationWarning:\n",
      "\n",
      "Creating an ndarray from ragged nested sequences (which is a list-or-tuple of lists-or-tuples-or ndarrays with different lengths or shapes) is deprecated. If you meant to do this, you must specify 'dtype=object' when creating the ndarray.\n",
      "\n"
     ]
    },
    {
     "name": "stdout",
     "output_type": "stream",
     "text": [
      "ALCANZO MAX ITERACION!\n"
     ]
    }
   ],
   "source": [
    "D9 = np.diag([4., 12., 100., 230., 410., 202., 30., 45., 36., 700.])\n",
    "D10 = np.diag([150., 120., 100., 200., 110., 202., 304., 145., 236., 270.])\n",
    "\n",
    "matricesD = np.array([C1, C2, C3, C4, C5, C6,C7,C8,D9,D10])\n",
    "\n",
    "iteGCdeD = np.zeros(10)\n",
    "iteMGdeD = np.zeros(10)\n",
    "\n",
    "\n",
    "for i in range(1, len(matricesD)+1):\n",
    "  b_pruebaD = np.zeros(len(matricesD[i-1]))\n",
    "  x_inicialD = np.ones(len(matricesD[i-1]))\n",
    "  iteMGdeD[i-1] = metodo_gradiente(matricesD[i-1],b_pruebaD, x_inicialD, eps, kmax, 1, 0, False)[1]\n",
    "  iteGCdeD[i-1] = gradiente_conjugado(matricesD[i-1],np.zeros(len(matricesD[i-1])), np.ones(len(matricesD[i-1])), eps, kmax,1,1)[1]"
   ]
  },
  {
   "cell_type": "markdown",
   "metadata": {
    "id": "ocqcyU6QD35y"
   },
   "source": [
    "Las matrices con índice impar son matrices mal condicionadas y las de índice par son matrices bien condicionadas."
   ]
  },
  {
   "cell_type": "code",
   "execution_count": null,
   "metadata": {
    "colab": {
     "base_uri": "https://localhost:8080/",
     "height": 295
    },
    "id": "bxfxP8Xo18qV",
    "outputId": "6ef57f8d-3c44-4329-d4d5-b7190415a579"
   },
   "outputs": [
    {
     "data": {
      "image/png": "[encoded data removed]",
      "text/plain": [
       "<Figure size 432x288 with 1 Axes>"
      ]
     },
     "metadata": {
      "needs_background": "light"
     },
     "output_type": "display_data"
    }
   ],
   "source": [
    "plt.plot(np.arange(1,len(matricesD)+1), iteGCdeD, 'go--')\n",
    "plt.plot(np.arange(1,len(matricesD)+1), iteMGdeD, 'bo--')\n",
    "plt.title(\"Variación en la cantidad de iteraciones\")\n",
    "\n",
    "plt.xlabel('Matriz de prueba')\n",
    "plt.ylabel('Iteraciones')\n",
    "\n",
    "plt.legend([\"Gradiente Conjugado\",\"Método del gradiente\"])\n",
    "plt.show()"
   ]
  },
  {
   "cell_type": "markdown",
   "metadata": {
    "id": "rguA7W3kES3o"
   },
   "source": [
    "Notamos que para las matrices mal condicionadas el método del gradiente se comporta de peor manera que el gradiente conjugado y, cuando las matrices están bien condicionadas no es tan apreciable la diferencia."
   ]
  },
  {
   "cell_type": "markdown",
   "metadata": {
    "id": "eo7-xRTd6zYH"
   },
   "source": [
    "##  Métodos de Newton y Cuasi-Newton\n"
   ]
  },
  {
   "cell_type": "code",
   "execution_count": null,
   "metadata": {
    "colab": {
     "base_uri": "https://localhost:8080/"
    },
    "id": "k2KnqoKKeXrv",
    "outputId": "aa607618-bcdf-4248-8d1e-c801bb6deec3"
   },
   "outputs": [
    {
     "name": "stdout",
     "output_type": "stream",
     "text": [
      "Drive already mounted at /content/drive; to attempt to forcibly remount, call drive.mount(\"/content/drive\", force_remount=True).\n"
     ]
    }
   ],
   "source": [
    "from google.colab import drive # Esto es para el caso en que el archivo se encuentre en Google Collab y quieran importar la matriz del ejercicio.\n",
    "drive.mount('/content/drive')  # Hay que correr este mismo código y pulsar \"Conectar con Google Drive\""
   ]
  },
  {
   "cell_type": "code",
   "execution_count": null,
   "metadata": {
    "id": "2a6c39b4"
   },
   "outputs": [],
   "source": [
    "# CHOLESKY\n",
    "\n",
    "# Sea A simetrica definida positiva, efectúa la descomposición de Cholesky: devuelve L tal que A=L.Lt\n",
    "def chol(A):\n",
    "    n = A.shape[0]-1\n",
    "    L = np.zeros(A.shape)\n",
    "    L[0, 0] = np.sqrt(A[0, 0])\n",
    "\n",
    "    for j in range(1, n+1):\n",
    "        L[j, 0] = A[j, 0] / L[0, 0]\n",
    "\n",
    "    for i in range(1, n+1):\n",
    "        L[i, i] = np.sqrt(A[i, i] - sum(L[i, p]**2 for p in range(i)))\n",
    "        if i != n:\n",
    "            for j in range(i+1, n+1):\n",
    "                L[j, i] = (A[j, i] - sum(L[i,p]*L[j,p] for p in range(i)))/ L[i, i]\n",
    "    return L\n",
    "\n",
    "\n",
    "# Sea L diagonal inferior, devuelve el resultado de Lx=b\n",
    "def sust_forward(L, b):\n",
    "    n = L.shape[0] - 1\n",
    "    sol = np.zeros(L.shape[0])\n",
    "    sol[0] = b[0]/L[0, 0]\n",
    "    for i in range(1, n+1):\n",
    "        sol[i] = (b[i] - sum(L[i,j]*sol[j] for j in range(i))) / L[i,i]\n",
    "    return sol\n",
    "\n",
    "\n",
    "# Sea L diagonal superior, devuelve el resultado de Lx=b\n",
    "def sust_backward(L, b):\n",
    "    n = L.shape[0] - 1\n",
    "    sol = np.zeros(L.shape[0])\n",
    "    sol[n] = b[n]/L[n, n]\n",
    "    for i in reversed(range(n)):\n",
    "        sol[i] = (b[i] - sum(L[i,j]*sol[j] for j in range(i+1,n+1))) / L[i,i]\n",
    "    return sol\n",
    "\n",
    "# Sea A simetrica definida positiva, devuelve el resultado de Ax=b\n",
    "def eq_lineal_chol(A, b):\n",
    "    L = chol(A)\n",
    "    y = sust_forward(L, b)\n",
    "    x = sust_backward(L.T, y)\n",
    "    return x"
   ]
  },
  {
   "cell_type": "code",
   "execution_count": null,
   "metadata": {
    "id": "fPHd9iC9kfod"
   },
   "outputs": [],
   "source": [
    "def metodo_newton(A, b, x0, eps = 1e-6, k_max = 10000):\n",
    "  iter = 0\n",
    "  x = x0 \n",
    "  d = eq_lineal_chol(A, -A@x - b)\n",
    "\n",
    "  while(np.linalg.norm(A@x + b)>eps and iter<k_max):\n",
    "    x = x + d\n",
    "    d = eq_lineal_chol(A, -A@x - b)\n",
    "    iter = iter + 1\n",
    "    if(iter==k_max):\n",
    "      print(\"ALCANZO MAX ITERACION!\")\n",
    "  return x, iter"
   ]
  },
  {
   "cell_type": "code",
   "execution_count": null,
   "metadata": {
    "id": "e1rvGFJ264op"
   },
   "outputs": [],
   "source": [
    "def cuasi_newton(A, b, x0, metodo, eps = 1e-6, kmax = 10000):\n",
    "    k = 0 \n",
    "    Hk = np.eye(np.size(A[0]))\n",
    "    xk = x0\n",
    "    while (np.linalg.norm(A@xk + b) > eps and k < kmax):\n",
    "        dk = -Hk @ (A@xk + b)\n",
    "        tk = -((A@xk +b).T @ dk)/(dk.T@A@dk)\n",
    "        x_ant = xk\n",
    "        xk = x_ant + tk*dk\n",
    "        sk = xk - x_ant\n",
    "        \n",
    "        yk = A@sk\n",
    "\n",
    "        if metodo == \"Broyden\": \n",
    "            Hk = Hk + np.outer(sk-Hk@yk, sk-Hk@yk)/(yk@(sk-Hk@yk)) \n",
    "        elif metodo == \"DFP\": \n",
    "            Hk = Hk + np.outer(sk, sk)/(yk@sk) - (Hk@np.outer(yk, yk)@Hk)/(yk@(Hk@yk))\n",
    "        elif metodo == \"BFGS\": \n",
    "            Hk = Hk + (1+ (yk@Hk@yk)/(sk.T@yk))*(np.outer(sk,sk)/(sk@yk)) - (np.outer(sk, yk)@Hk + Hk@np.outer(yk, sk))/(sk@yk)\n",
    "        k = k+1\n",
    "        \n",
    "    return xk, k"
   ]
  },
  {
   "cell_type": "code",
   "execution_count": null,
   "metadata": {
    "id": "DaosExUNZIZf"
   },
   "outputs": [],
   "source": [
    "def bbr(A, b, x0, eps = 1e-6, kmax = 10000):\n",
    "   d0 =  -(A@x0 + b)\n",
    "   t0 = -((A@x0 +b).T@ d0)/(d0.T@A@d0) \n",
    "   xk = x0 + t0*d0\n",
    "   exis = [x0, xk]\n",
    "   sk = xk - x0\n",
    "   iter = 1\n",
    "   while (np.linalg.norm(A@xk + b) > eps) and iter < kmax:\n",
    "     dk = -(A@xk + b)\n",
    "     tk = (sk.T@sk) / (sk.T@(A@sk))\n",
    "     x_ant = xk\n",
    "     xk = xk + tk*dk\n",
    "     sk = xk - x_ant\n",
    "     exis.append(xk)\n",
    "     iter = iter + 1\n",
    "   return xk, iter, exis"
   ]
  },
  {
   "cell_type": "code",
   "execution_count": null,
   "metadata": {
    "id": "T4xfsprDxDiq"
   },
   "outputs": [],
   "source": [
    "A = np.load('/content/drive/My Drive/TP1IO/matriz.npy') # Este es el directorio donde esta la matriz, pero habría que cambiarlo por donde lo tiene cada uno"
   ]
  },
  {
   "cell_type": "code",
   "execution_count": null,
   "metadata": {
    "colab": {
     "base_uri": "https://localhost:8080/"
    },
    "id": "MZCU83tFTZMt",
    "outputId": "41fb38b2-3fd8-4c73-a2d9-7fa0670f2bc2"
   },
   "outputs": [
    {
     "name": "stdout",
     "output_type": "stream",
     "text": [
      "Tiempo de ejecucion:  4.58263635635376\n",
      "Cantidad de iteraciones:  1\n"
     ]
    }
   ],
   "source": [
    "from time import time\n",
    "\n",
    "s = time()\n",
    "\n",
    "#########################################################\n",
    "# Newton\n",
    "x_newton, k_newton = metodo_newton(A, np.zeros(np.size(A[0])), np.ones(np.size(A[0])))\n",
    "#########################################################\n",
    "\n",
    "t_newton = time() - s\n",
    "\n",
    "print('Tiempo de ejecucion: ', t_newton)\n",
    "\n",
    "print('Cantidad de iteraciones: ', k_newton)"
   ]
  },
  {
   "cell_type": "code",
   "execution_count": null,
   "metadata": {
    "colab": {
     "base_uri": "https://localhost:8080/"
    },
    "id": "Ycj6eh8rZs8t",
    "outputId": "6a23a20d-7db9-4d15-e380-9487570ea33d"
   },
   "outputs": [
    {
     "name": "stdout",
     "output_type": "stream",
     "text": [
      "Tiempo de ejecucion:  0.5480759143829346\n",
      "Cantidad de iteraciones:  301\n"
     ]
    }
   ],
   "source": [
    "s = time()\n",
    "\n",
    "#########################################################\n",
    "# Broyden\n",
    "x_broyden, k_broyden = cuasi_newton(A, np.zeros(np.size(A[0])), np.ones(np.size(A[0])), \"Broyden\")\n",
    "#########################################################\n",
    "\n",
    "t_broyden = time() - s\n",
    "\n",
    "print('Tiempo de ejecucion: ', t_broyden)\n",
    "\n",
    "print('Cantidad de iteraciones: ', k_broyden)"
   ]
  },
  {
   "cell_type": "code",
   "execution_count": null,
   "metadata": {
    "colab": {
     "base_uri": "https://localhost:8080/"
    },
    "id": "js9NsiWXhHt_",
    "outputId": "9b8c3ea0-3392-451a-debb-fee49bc954eb"
   },
   "outputs": [
    {
     "name": "stdout",
     "output_type": "stream",
     "text": [
      "Tiempo de ejecucion:  2.0787065029144287\n",
      "Cantidad de iteraciones:  300\n"
     ]
    }
   ],
   "source": [
    "s = time()\n",
    "\n",
    "#########################################################\n",
    "# DFP\n",
    "x_dfp, k_dfp = cuasi_newton(A, np.zeros(np.size(A[0])), np.ones(np.size(A[0])), \"DFP\")\n",
    "#########################################################\n",
    "\n",
    "t_dfp = time() - s\n",
    "\n",
    "print('Tiempo de ejecucion: ', t_dfp)\n",
    "\n",
    "print('Cantidad de iteraciones: ', k_dfp)"
   ]
  },
  {
   "cell_type": "code",
   "execution_count": null,
   "metadata": {
    "colab": {
     "base_uri": "https://localhost:8080/"
    },
    "id": "w1detGt8aDfC",
    "outputId": "ad0d3965-2f7b-411e-bb41-e4515c7af1e8"
   },
   "outputs": [
    {
     "name": "stdout",
     "output_type": "stream",
     "text": [
      "Tiempo de ejecucion:  2.2626593112945557\n",
      "Cantidad de iteraciones:  300\n"
     ]
    }
   ],
   "source": [
    "s = time()\n",
    "\n",
    "#########################################################\n",
    "# BFGS\n",
    "x_bfgs, k_bfgs = cuasi_newton(A, np.zeros(np.size(A[0])), np.ones(np.size(A[0])), \"BFGS\")\n",
    "#########################################################\n",
    "\n",
    "t_bfgs = time() - s\n",
    "\n",
    "print('Tiempo de ejecucion: ', t_bfgs)\n",
    "\n",
    "print('Cantidad de iteraciones: ', k_bfgs)"
   ]
  },
  {
   "cell_type": "code",
   "execution_count": null,
   "metadata": {
    "colab": {
     "base_uri": "https://localhost:8080/"
    },
    "id": "Vv2u5G-1aMLz",
    "outputId": "2b84c7e8-e620-4e1e-fbf7-040c428a67b4"
   },
   "outputs": [
    {
     "name": "stdout",
     "output_type": "stream",
     "text": [
      "Tiempo de ejecucion:  7.164927244186401\n",
      "Cantidad de iteraciones:  10000\n"
     ]
    }
   ],
   "source": [
    "s = time()\n",
    "\n",
    "#########################################################\n",
    "# BBR\n",
    "x_bbr, k_bbr, l = bbr(A, np.ones(np.size(A[0])), np.zeros(np.size(A[0])))\n",
    "#########################################################\n",
    "\n",
    "t_bbr = time() - s\n",
    "\n",
    "print('Tiempo de ejecucion: ', t_bbr)\n",
    "\n",
    "print('Cantidad de iteraciones: ', k_bbr)"
   ]
  },
  {
   "cell_type": "code",
   "execution_count": null,
   "metadata": {
    "colab": {
     "base_uri": "https://localhost:8080/",
     "height": 281
    },
    "id": "buf9LES3cXnN",
    "outputId": "c9898cc5-2692-40df-bcc6-c24b6039f59d"
   },
   "outputs": [
    {
     "data": {
      "image/png": "[encoded data removed]",
      "text/plain": [
       "<Figure size 432x288 with 1 Axes>"
      ]
     },
     "metadata": {
      "needs_background": "light"
     },
     "output_type": "display_data"
    }
   ],
   "source": [
    "cant_iter = [k_newton, k_broyden, k_dfp, k_bfgs, k_bbr]\n",
    "tiempos = [t_newton, t_broyden, t_dfp, t_bfgs, t_bbr]\n",
    "plt.bar([\"Newton\", \"Broyden (Mala)\", \"DFP\", \"BFGS\", \"BBR\"], cant_iter)\n",
    "plt.title(\"Cantidad de iteraciones según el método\") \n",
    "plt.show()"
   ]
  },
  {
   "cell_type": "markdown",
   "metadata": {
    "id": "-g5W60K6d7sr"
   },
   "source": [
    "Podemos observar que las iteraciones cambian según el método. El método de Newton tarda solo una iteración, como se espera, pues su tasa de convergencia es muy rápida. Los métodos de Cuasi-Newton de Broyden (Mala), DFP y BFGS tardan más iteraciones pues convergen más lento que el método de Newton. Es interesante observar que todas tardan más o menos la misma cantidad de iteraciones, rondeando las 300. Por último, podemos ver que BBR tarda la cantidad máxima de iteraciones (en este caso, 10000). Esto último se debe a que la matriz está mal condicionada y BBR es una modificación del método del Gradiente (que depende más de la matriz que le pases)."
   ]
  },
  {
   "cell_type": "code",
   "execution_count": null,
   "metadata": {
    "colab": {
     "base_uri": "https://localhost:8080/",
     "height": 281
    },
    "id": "TgTv5QdVdt0q",
    "outputId": "e7873afe-310b-4588-ba1c-e186ffe24cef"
   },
   "outputs": [
    {
     "data": {
      "image/png": "[encoded data removed]",
      "text/plain": [
       "<Figure size 432x288 with 1 Axes>"
      ]
     },
     "metadata": {
      "needs_background": "light"
     },
     "output_type": "display_data"
    }
   ],
   "source": [
    "plt.bar([\"Newton\", \"Broyden (Mala)\", \"DFP\", \"BFGS\", \"BBR\"], tiempos)\n",
    "plt.title(\"Tiempo de ejecución según el método\") \n",
    "plt.show()"
   ]
  },
  {
   "cell_type": "markdown",
   "metadata": {
    "id": "Ll2hGaC3e_sS"
   },
   "source": [
    "El tiempo de ejecución también varía según el modelo. El método que más tarda es el de Newton pues, si bien su tasa de convergencia es muy rápida, las operaciones que debe realizar son muy costosas computacionalmente. BBR también tarda bastante tiempo, lo que se podría deber a que la matriz está mal condicionada. \n",
    "\n",
    "Por otro lado, los métodos de Cuasi-Newton con BFGS, DFP y Broyden tardan considerablemente menos tiempo. La diferencia entre estos tres sospechamos que se debe principalmente a la cantidad de operaciones matriciales que se hacen al calcular $H_k$, pues en este caso trabajamos con una matriz de dimensión $300 \\times 300$."
   ]
  },
  {
   "cell_type": "code",
   "execution_count": null,
   "metadata": {
    "colab": {
     "base_uri": "https://localhost:8080/"
    },
    "id": "N1MGVdELg7ei",
    "outputId": "08774df7-10bb-4477-a7f6-f5503181fba1"
   },
   "outputs": [
    {
     "name": "stdout",
     "output_type": "stream",
     "text": [
      "+---------+-------------------------+---------------------+\n",
      "|  Método | Cantidad de iteraciones | Tiempo de ejecución |\n",
      "+---------+-------------------------+---------------------+\n",
      "|  Newton |            1            |   4.58263635635376  |\n",
      "| Broyden |           301           |  0.5480759143829346 |\n",
      "|   DFP   |           300           |  2.0787065029144287 |\n",
      "|   BFGS  |           300           |  2.2626593112945557 |\n",
      "|   BBR   |          10000          |  7.164927244186401  |\n",
      "+---------+-------------------------+---------------------+\n"
     ]
    }
   ],
   "source": [
    "from prettytable import PrettyTable\n",
    " \n",
    "# Specify the Column Names while initializing the Table\n",
    "myTable = PrettyTable([\"Método\", \"Cantidad de iteraciones\", \"Tiempo de ejecución\"])\n",
    " \n",
    "# Add rows\n",
    "myTable.add_row([\"Newton\", k_newton, t_newton])\n",
    "myTable.add_row([\"Broyden\", k_broyden, t_broyden])\n",
    "myTable.add_row([\"DFP\", k_dfp, t_dfp])\n",
    "myTable.add_row([\"BFGS\", k_bfgs, t_bfgs])\n",
    "myTable.add_row([\"BBR\", k_bbr, t_bbr])\n",
    " \n",
    "print(myTable)"
   ]
  },
  {
   "cell_type": "markdown",
   "metadata": {
    "id": "DVINlqJEh-e7"
   },
   "source": [
    "En la tabla podemos observar más claramente el \"trade-off\" entre cantidad de iteraciones y tiempo de ejecución. El método de Newton consigue el mínimo en una iteración pues su tasa de convergencia es muy rápida, sin embargo es el método que más tarda dado que las operaciones que realiza son las más costosas. Los métodos de Cuasi-Newton tardan bastante menos tiempo pero realizan más iteraciones. Es interesante notar que la cantidad de iteraciones en los tres casos se encuentra muy cercana a la dimensión de la matriz que utilizamos. BBR llega al límite de iteraciones y tarda bastante puesto que es una modificación del método del Gradiente y le estamos dando una matriz mal condicionada."
   ]
  },
  {
   "cell_type": "markdown",
   "metadata": {
    "id": "WDxCuiGg65G2"
   },
   "source": [
    "##  Método de Barzilai-Borwein-Raydan\n",
    "\n",
    "### 1."
   ]
  },
  {
   "cell_type": "code",
   "execution_count": null,
   "metadata": {
    "id": "rNE6NXYw_fpB"
   },
   "outputs": [],
   "source": [
    "#calculamos la cantidad de iteraciones para las matrices del punto 1 inciso 1 usando el metodo BBR\n",
    "iterBBR = np.zeros((len(matricesA), 1))\n",
    "for i in range(1, len(matricesA) + 1):\n",
    "  iterBBR[i-1, 0] = bbr(matricesA[i-1],b_pruebaA, x_inicialA)[1]"
   ]
  },
  {
   "cell_type": "code",
   "execution_count": null,
   "metadata": {
    "colab": {
     "base_uri": "https://localhost:8080/",
     "height": 295
    },
    "id": "H8icTe99zrmB",
    "outputId": "e982c3d7-9441-483f-b414-88e8342266a9"
   },
   "outputs": [
    {
     "data": {
      "image/png": "[encoded data removed]",
      "text/plain": [
       "<Figure size 432x288 with 1 Axes>"
      ]
     },
     "metadata": {
      "needs_background": "light"
     },
     "output_type": "display_data"
    }
   ],
   "source": [
    "%matplotlib inline\n",
    "\n",
    "plt.plot(np.array([1., 2., 3., 4., 5., 6., 7.]), lambdas1[:, 0], 'go--')\n",
    "plt.plot(np.array([1., 2., 3., 4., 5., 6., 7.]), lambdas1[:, 1], 'bo--')\n",
    "plt.plot(np.array([1., 2., 3., 4., 5., 6., 7.]), lambdas1[:, 2], 'ro--')\n",
    "plt.plot(np.array([1., 2., 3., 4., 5., 6., 7.]), lambdas1[:, 3], 'ko--')\n",
    "plt.plot(np.array([1., 2., 3., 4., 5., 6., 7.]), iterBBR[:, 0], 'yo--')\n",
    "plt.title(\"Variación en la cantidad de iteraciones\")\n",
    "\n",
    "plt.xlabel('Matriz de prueba')\n",
    "plt.ylabel('Iteraciones')\n",
    "\n",
    "plt.legend([\"0.75\", \"0.5\", \"0.25\", \"rand\", \"BBR\"])\n",
    "plt.show()"
   ]
  },
  {
   "cell_type": "markdown",
   "metadata": {
    "id": "Uif-ScNIOEUv"
   },
   "source": [
    "Podemos ver que la cantidad de iteraciones que realiza el método BBR es mucho menor que la cantidad de iteraciones que realiza el método del gradiente con cualquiera de sus variantes."
   ]
  },
  {
   "cell_type": "markdown",
   "metadata": {
    "id": "BenIgjGt_f72"
   },
   "source": [
    "### 2."
   ]
  },
  {
   "cell_type": "code",
   "execution_count": null,
   "metadata": {
    "id": "BMI_2mwJPKYs"
   },
   "outputs": [],
   "source": [
    "def f(A,x):\n",
    "   return 0.5*x.T@(A@x)"
   ]
  },
  {
   "cell_type": "code",
   "execution_count": null,
   "metadata": {
    "colab": {
     "base_uri": "https://localhost:8080/",
     "height": 265
    },
    "id": "x-gsTn-l_hIK",
    "outputId": "280dd77b-4dff-4178-f5cf-4b1f67834fbc"
   },
   "outputs": [
    {
     "data": {
      "image/png": "[encoded data removed]",
      "text/plain": [
       "<Figure size 432x288 with 1 Axes>"
      ]
     },
     "metadata": {
      "needs_background": "light"
     },
     "output_type": "display_data"
    }
   ],
   "source": [
    "ktop4 = bbr(A4, b_pruebaA, x_inicialA)[1]\n",
    "ks4 = np.arange(ktop4)\n",
    "fs4 = np.zeros(ktop4)\n",
    "paraeval4 = bbr(A4, b_pruebaA,x_inicialA)[2]\n",
    "for i in range(1, len(paraeval4)):\n",
    "   fs4[i-1] = f(A4, paraeval4[i-1]) \n",
    "plt.plot(ks4,fs4)\n",
    "plt.show()"
   ]
  },
  {
   "cell_type": "code",
   "execution_count": null,
   "metadata": {
    "colab": {
     "base_uri": "https://localhost:8080/",
     "height": 265
    },
    "id": "UdlFjYqTPWNh",
    "outputId": "3be1864c-a6c5-4e34-bb54-38c520f8b3e0"
   },
   "outputs": [
    {
     "data": {
      "image/png": "[encoded data removed]",
      "text/plain": [
       "<Figure size 432x288 with 1 Axes>"
      ]
     },
     "metadata": {
      "needs_background": "light"
     },
     "output_type": "display_data"
    }
   ],
   "source": [
    "ktop7 = bbr(A7, b_pruebaA, x_inicialA)[1]\n",
    "ks7 = np.arange(ktop7)\n",
    "fs7 = np.zeros(ktop7)\n",
    "paraeval7 = bbr(A7, b_pruebaA,x_inicialA)[2]\n",
    "for i in range(1, len(paraeval7)):\n",
    "   fs7[i-1] = f(A7, paraeval7[i-1]) \n",
    "plt.plot(ks7,fs7)\n",
    "plt.show()"
   ]
  },
  {
   "cell_type": "markdown",
   "metadata": {
    "id": "tL63NIPtPxbs"
   },
   "source": [
    "Podemos ver en los gráficos (dados por las matrices del punto 1 inciso 1 A4 y A7) que la sucesión dada por evaluar f en los $x_k$ que va obteniendo el método BBR no es necesariamente monótona creciente. "
   ]
  },
  {
   "cell_type": "markdown",
   "metadata": {
    "id": "hldgV8Ky7BoL"
   },
   "source": [
    "## Heurísticas\n"
   ]
  },
  {
   "cell_type": "code",
   "execution_count": null,
   "metadata": {
    "id": "a35rzicd7eQr"
   },
   "outputs": [],
   "source": [
    "def backwards(f,h, e_i,x0):\n",
    "    x1 = x0-e_i*h\n",
    "    return (f(x0[0],x0[1])-f(x1[0],x1[1]))/h\n",
    "\n",
    "def derivada_parcial(f,x0,i):\n",
    "    h = 0.1 \n",
    "    e_i = np.zeros(len(x0))\n",
    "    e_i[i] =  1\n",
    "    z = backwards(f,h, e_i, x0)\n",
    "    h = h/2\n",
    "    y = backwards(f,h, e_i, x0) \n",
    "    error = np.linalg.norm(y-z)\n",
    "    eps = 1e-8\n",
    "    while error > eps and (y.any() != np.nan) and (y.any() != np.inf):\n",
    "        error = np.linalg.norm(y-z)\n",
    "        z = y\n",
    "        h = h/2\n",
    "        y = backwards(f,h,e_i, x0) \n",
    "    return z \n",
    "\n",
    "def gradiente(f,x0):\n",
    "    res = np.zeros(len(x0))\n",
    "    for i in range(0,len(x0)):\n",
    "        res[i] = derivada_parcial(f,x0,i)\n",
    "    return res\n",
    "\n",
    "def cuasi_newton_f(f, x0,eps = 1e-6, kmax = 10000):\n",
    "    k = 0 \n",
    "    Hk = np.eye(len(x0))\n",
    "    xk = x0\n",
    "    while (np.linalg.norm(gradiente(f,xk)) > eps and k < kmax):\n",
    "        dk = -Hk @ gradiente(f,xk)\n",
    "        #tk = -(gradiente(f,xo).T @ dk)/(dk.T@A@dk)\n",
    "        x_ant = xk\n",
    "        xk = x_ant + dk\n",
    "        sk = xk - x_ant      \n",
    "        yk = gradiente(f,xk) - gradiente(f,x_ant)\n",
    "        Hk = Hk + np.outer(sk-Hk@yk, sk-Hk@yk)/(yk@(sk-Hk@yk))\n",
    "        k = k+1\n",
    "    return xk, k     "
   ]
  },
  {
   "cell_type": "code",
   "execution_count": null,
   "metadata": {
    "id": "WENUFMH3as6E"
   },
   "outputs": [],
   "source": [
    "g = lambda x, y : np.sin(y)*np.exp((1 - np.cos(x))**2) + np.cos(x)*np.exp((1 - np.sin(y))**2) + (x - y)**2"
   ]
  },
  {
   "cell_type": "code",
   "execution_count": null,
   "metadata": {
    "id": "wlzMvLRUbYvP"
   },
   "outputs": [],
   "source": [
    "def random_restart(f, N, c):\n",
    "  valor_tmp = 1000000\n",
    "  x_tmp = np.zeros(2)\n",
    "  for i in range(1,N):\n",
    "     x = 2*c*np.random.random(2)-c\n",
    "     sol_tmp = cuasi_newton_f(f, x)\n",
    "     if (g(sol_tmp[0][0], sol_tmp[0][1]) <= valor_tmp):\n",
    "        valor_tmp = g(sol_tmp[0][0], sol_tmp[0][1])\n",
    "        x_tmp = sol_tmp[0]\n",
    "  return x_tmp"
   ]
  },
  {
   "cell_type": "code",
   "execution_count": null,
   "metadata": {
    "id": "58c0502c"
   },
   "outputs": [],
   "source": [
    "def plot_fun(f, limites, points=None):\n",
    "    \"\"\"\n",
    "    f : función a graficar\n",
    "    limites : toma una tupla (x1,x2,y1,y2) de los límites del gráfico: grafica en el dominio [x1,x2] x [y1,y2]\n",
    "    points : lista de puntos a graficar sobre la superficie; se ingresa como una lista de tuplas (x,y,z) \n",
    "    \"\"\"\n",
    "    init_notebook_mode(connected=True)\n",
    "\n",
    "    x = np.linspace(limites[0], limites[1], 1000)\n",
    "    y = np.linspace(limites[2], limites[3], 1000)\n",
    "    X, Y = np.meshgrid(x, y)\n",
    "    Z = f(X, Y)\n",
    "    data = [go.Surface(x=x, y=y, z=Z)]\n",
    "    if points is not None:\n",
    "        for p in points:\n",
    "            data.append(go.Scatter3d(x=[p[0]], y=[p[1]], z=[p[2]], mode='markers'))\n",
    "    fig = go.Figure(data=data)\n",
    "    # iplot(fig)\n",
    "    fig.show(renderer = \"colab\")"
   ]
  },
  {
   "cell_type": "code",
   "execution_count": null,
   "metadata": {
    "colab": {
     "base_uri": "https://localhost:8080/"
    },
    "id": "dYG3Bbpea_uK",
    "outputId": "a244d791-11f4-4100-bdc8-cff939d8e204"
   },
   "outputs": [
    {
     "name": "stderr",
     "output_type": "stream",
     "text": [
      "<ipython-input-128-34eaafc9ef0c>:38: RuntimeWarning:\n",
      "\n",
      "invalid value encountered in true_divide\n",
      "\n"
     ]
    }
   ],
   "source": [
    "rta1 = random_restart(g,1,15)\n",
    "rta5 = random_restart(g,5,15)\n",
    "rta10 = random_restart(g,10,15)\n",
    "rta15 = random_restart(g,15,15)\n",
    "rta20 = random_restart(g,20,15)\n",
    "rta25 = random_restart(g,25,15)\n",
    "rta30 = random_restart(g,30,15)"
   ]
  },
  {
   "cell_type": "code",
   "execution_count": null,
   "metadata": {
    "colab": {
     "base_uri": "https://localhost:8080/",
     "height": 542
    },
    "id": "15I6R9DdbK4i",
    "outputId": "5e4e5485-5876-4ddb-f4f7-a9c51b68035c"
   },
   "outputs": [],
   "source": [
    "puntos =  [(rta1[0], rta1[1], g(rta1[0], rta1[1])), (rta5[0], rta5[1], g(rta5[0], rta5[1])), (rta10[0], rta10[1], g(rta10[0], rta10[1])), (rta15[0], rta15[1], g(rta15[0], rta15[1])), (rta20[0], rta20[1], g(rta20[0], rta20[1]))]\n",
    "plot_fun(g, (-15, 15, -15, 15), puntos)"
   ]
  },
  {
   "cell_type": "markdown",
   "metadata": {
    "id": "1IDaDxK0fUdL"
   },
   "source": [
    "La solución obtenida a veces es buena y a veces no, creemos que esto se debe a la aleatoriedad de elegir el punto inicial. Hay algunos puntos que se encuentran \"fuera del gráfico de la función Bird\". Esto se debe a que graficamos la función entre $[-15, 15] \\times [-15, 15]$ y los puntos óptimos usando el Método Cuasi-Newton se pueden alejar de ese rango."
   ]
  }
 ],
 "metadata": {
  "colab": {
   "provenance": []
  },
  "kernelspec": {
   "display_name": "Python 3 (ipykernel)",
   "language": "python",
   "name": "python3"
  },
  "language_info": {
   "codemirror_mode": {
    "name": "ipython",
    "version": 3
   },
   "file_extension": ".py",
   "mimetype": "text/x-python",
   "name": "python",
   "nbconvert_exporter": "python",
   "pygments_lexer": "ipython3",
   "version": "3.8.10"
  }
 },
 "nbformat": 4,
 "nbformat_minor": 1
}
